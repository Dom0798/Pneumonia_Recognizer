{
 "cells": [
  {
   "cell_type": "markdown",
   "metadata": {
    "id": "M1H8q8USSAiH"
   },
   "source": [
    "![dphi banner](https://dphi-courses.s3.ap-south-1.amazonaws.com/Datathons/dphi_banner.png)"
   ]
  },
  {
   "cell_type": "markdown",
   "metadata": {
    "id": "-3yyd7b9h2dh"
   },
   "source": [
    "# **Getting Started Code For [Pneumonia Classification in CXRs](https://dphi.tech/challenges/pneumonia-classification-in-cxrs/76/overview/about) on DPhi**"
   ]
  },
  {
   "cell_type": "markdown",
   "metadata": {
    "id": "wsIqjb7Ebs3B"
   },
   "source": [
    "## Loading Libraries\n",
    "All Python capabilities are not loaded to our working environment by default (even they are already installed in your system). So, we import each and every library that we want to use.\n",
    "\n",
    "We chose alias names for our libraries for the sake of our convenience (numpy --> np and pandas --> pd, tensorlow --> tf).\n",
    "\n",
    "Note: You can import all the libraries that you think will be required or can import it as you go along."
   ]
  },
  {
   "cell_type": "code",
   "execution_count": 1,
   "metadata": {
    "id": "BIe16kmoUmhr"
   },
   "outputs": [],
   "source": [
    "import pandas as pd                                     # Data analysis and manipultion tool\n",
    "import numpy as np                                      # Fundamental package for linear algebra and multidimensional arrays\n",
    "import tensorflow as tf                                 # Deep Learning Tool\n",
    "import os                                               # OS module in Python provides a way of using operating system dependent functionality\n",
    "import cv2                                              # Library for image processing\n",
    "from sklearn.model_selection import train_test_split    # For splitting the data into train and validation set\n",
    "from sklearn.metrics import accuracy_score\n",
    "import matplotlib.pyplot as plt\n",
    "from keras.preprocessing.image import ImageDataGenerator\n",
    "from keras.models import Model, Sequential\n",
    "from keras.applications.densenet import DenseNet121\n",
    "from keras.layers import Dense, GlobalAveragePooling2D, Dropout, MaxPooling2D, Conv2D, Flatten, BatchNormalization\n",
    "from keras.optimizers import Adam, SGD"
   ]
  },
  {
   "cell_type": "markdown",
   "metadata": {},
   "source": [
    "### Check for GPU\n",
    "Run this code with local GPU"
   ]
  },
  {
   "cell_type": "code",
   "execution_count": 2,
   "metadata": {},
   "outputs": [
    {
     "name": "stdout",
     "output_type": "stream",
     "text": [
      "PhysicalDevice(name='/physical_device:GPU:0', device_type='GPU')\n"
     ]
    }
   ],
   "source": [
    "devices = tf.config.list_physical_devices('GPU')\n",
    "print(devices[0])"
   ]
  },
  {
   "cell_type": "markdown",
   "metadata": {
    "id": "IAXqCpedduVx"
   },
   "source": [
    "## Loading and preparing training data\n",
    "The train and test images are given in two different folders - 'train' and 'test'."
   ]
  },
  {
   "cell_type": "code",
   "execution_count": 3,
   "metadata": {
    "id": "vMXmX8g3dflK"
   },
   "outputs": [],
   "source": [
    "data=[]\n",
    "img_size = 100\n",
    "def create_data():\n",
    "        for item in ['normal','pneumonia']:\n",
    "            path='./content/train/' + item+\"/\"\n",
    "            \n",
    "            for img in os.listdir(path):         # os.listdir gets you all the list of name of files located in the given path\n",
    "                try:\n",
    "                    img_array= cv2.imread(os.path.join(path,img),cv2.IMREAD_GRAYSCALE)    # converts the image to pixels and gray scales the images\n",
    "                    new_img_array= cv2.resize(img_array,(img_size,img_size))\n",
    "                    #new_img_array = cv2.cvtColor(new_img_array, cv2.COLOR_GRAY2RGB)\n",
    "                    # print(img_array)\n",
    "                    if item == 'normal':\n",
    "                        data.append([new_img_array, path + img, item])\n",
    "                    else:\n",
    "                        data.append([new_img_array, path + img, item]) # appending the list of image pixels and respective target value in data\n",
    "                except Exception as e:\n",
    "                    pass                                      # try and except is exception handling case in python, saves you from getting errors\n",
    "                \n",
    "            \n",
    "create_data()"
   ]
  },
  {
   "cell_type": "code",
   "execution_count": 4,
   "metadata": {
    "colab": {
     "base_uri": "https://localhost:8080/"
    },
    "id": "nZlpwqogcWoM",
    "outputId": "33d89c04-dfee-4cfe-ba3c-eec0029796e0"
   },
   "outputs": [
    {
     "data": {
      "text/plain": [
       "2425"
      ]
     },
     "execution_count": 4,
     "metadata": {},
     "output_type": "execute_result"
    }
   ],
   "source": [
    "len(data)"
   ]
  },
  {
   "cell_type": "code",
   "execution_count": 5,
   "metadata": {},
   "outputs": [
    {
     "data": {
      "text/html": [
       "<div>\n",
       "<style scoped>\n",
       "    .dataframe tbody tr th:only-of-type {\n",
       "        vertical-align: middle;\n",
       "    }\n",
       "\n",
       "    .dataframe tbody tr th {\n",
       "        vertical-align: top;\n",
       "    }\n",
       "\n",
       "    .dataframe thead th {\n",
       "        text-align: right;\n",
       "    }\n",
       "</style>\n",
       "<table border=\"1\" class=\"dataframe\">\n",
       "  <thead>\n",
       "    <tr style=\"text-align: right;\">\n",
       "      <th></th>\n",
       "      <th>Image</th>\n",
       "      <th>Path</th>\n",
       "      <th>Event</th>\n",
       "    </tr>\n",
       "  </thead>\n",
       "  <tbody>\n",
       "    <tr>\n",
       "      <th>0</th>\n",
       "      <td>[[13, 13, 13, 13, 13, 13, 13, 13, 13, 13, 13, ...</td>\n",
       "      <td>./content/train/normal/CXR_train_1000.png</td>\n",
       "      <td>normal</td>\n",
       "    </tr>\n",
       "    <tr>\n",
       "      <th>1</th>\n",
       "      <td>[[0, 0, 0, 0, 0, 0, 0, 0, 0, 0, 0, 0, 0, 0, 0,...</td>\n",
       "      <td>./content/train/normal/CXR_train_1001.png</td>\n",
       "      <td>normal</td>\n",
       "    </tr>\n",
       "    <tr>\n",
       "      <th>2</th>\n",
       "      <td>[[229, 228, 226, 226, 225, 224, 223, 222, 223,...</td>\n",
       "      <td>./content/train/normal/CXR_train_1002.png</td>\n",
       "      <td>normal</td>\n",
       "    </tr>\n",
       "    <tr>\n",
       "      <th>3</th>\n",
       "      <td>[[242, 241, 241, 241, 240, 240, 240, 239, 238,...</td>\n",
       "      <td>./content/train/normal/CXR_train_1004.png</td>\n",
       "      <td>normal</td>\n",
       "    </tr>\n",
       "    <tr>\n",
       "      <th>4</th>\n",
       "      <td>[[16, 6, 6, 6, 6, 7, 7, 7, 7, 7, 7, 7, 7, 7, 7...</td>\n",
       "      <td>./content/train/normal/CXR_train_1005.png</td>\n",
       "      <td>normal</td>\n",
       "    </tr>\n",
       "    <tr>\n",
       "      <th>...</th>\n",
       "      <td>...</td>\n",
       "      <td>...</td>\n",
       "      <td>...</td>\n",
       "    </tr>\n",
       "    <tr>\n",
       "      <th>2420</th>\n",
       "      <td>[[191, 178, 168, 165, 161, 157, 157, 152, 152,...</td>\n",
       "      <td>./content/train/pneumonia/CXR_train_992.png</td>\n",
       "      <td>pneumonia</td>\n",
       "    </tr>\n",
       "    <tr>\n",
       "      <th>2421</th>\n",
       "      <td>[[0, 0, 0, 0, 0, 0, 0, 0, 0, 0, 0, 0, 0, 0, 0,...</td>\n",
       "      <td>./content/train/pneumonia/CXR_train_993.png</td>\n",
       "      <td>pneumonia</td>\n",
       "    </tr>\n",
       "    <tr>\n",
       "      <th>2422</th>\n",
       "      <td>[[0, 0, 0, 0, 0, 0, 0, 0, 0, 0, 0, 0, 0, 4, 3,...</td>\n",
       "      <td>./content/train/pneumonia/CXR_train_995.png</td>\n",
       "      <td>pneumonia</td>\n",
       "    </tr>\n",
       "    <tr>\n",
       "      <th>2423</th>\n",
       "      <td>[[9, 9, 9, 9, 9, 9, 9, 9, 9, 10, 9, 9, 9, 9, 9...</td>\n",
       "      <td>./content/train/pneumonia/CXR_train_996.png</td>\n",
       "      <td>pneumonia</td>\n",
       "    </tr>\n",
       "    <tr>\n",
       "      <th>2424</th>\n",
       "      <td>[[175, 171, 169, 165, 164, 163, 166, 160, 158,...</td>\n",
       "      <td>./content/train/pneumonia/CXR_train_999.png</td>\n",
       "      <td>pneumonia</td>\n",
       "    </tr>\n",
       "  </tbody>\n",
       "</table>\n",
       "<p>2425 rows × 3 columns</p>\n",
       "</div>"
      ],
      "text/plain": [
       "                                                  Image  \\\n",
       "0     [[13, 13, 13, 13, 13, 13, 13, 13, 13, 13, 13, ...   \n",
       "1     [[0, 0, 0, 0, 0, 0, 0, 0, 0, 0, 0, 0, 0, 0, 0,...   \n",
       "2     [[229, 228, 226, 226, 225, 224, 223, 222, 223,...   \n",
       "3     [[242, 241, 241, 241, 240, 240, 240, 239, 238,...   \n",
       "4     [[16, 6, 6, 6, 6, 7, 7, 7, 7, 7, 7, 7, 7, 7, 7...   \n",
       "...                                                 ...   \n",
       "2420  [[191, 178, 168, 165, 161, 157, 157, 152, 152,...   \n",
       "2421  [[0, 0, 0, 0, 0, 0, 0, 0, 0, 0, 0, 0, 0, 0, 0,...   \n",
       "2422  [[0, 0, 0, 0, 0, 0, 0, 0, 0, 0, 0, 0, 0, 4, 3,...   \n",
       "2423  [[9, 9, 9, 9, 9, 9, 9, 9, 9, 10, 9, 9, 9, 9, 9...   \n",
       "2424  [[175, 171, 169, 165, 164, 163, 166, 160, 158,...   \n",
       "\n",
       "                                             Path      Event  \n",
       "0       ./content/train/normal/CXR_train_1000.png     normal  \n",
       "1       ./content/train/normal/CXR_train_1001.png     normal  \n",
       "2       ./content/train/normal/CXR_train_1002.png     normal  \n",
       "3       ./content/train/normal/CXR_train_1004.png     normal  \n",
       "4       ./content/train/normal/CXR_train_1005.png     normal  \n",
       "...                                           ...        ...  \n",
       "2420  ./content/train/pneumonia/CXR_train_992.png  pneumonia  \n",
       "2421  ./content/train/pneumonia/CXR_train_993.png  pneumonia  \n",
       "2422  ./content/train/pneumonia/CXR_train_995.png  pneumonia  \n",
       "2423  ./content/train/pneumonia/CXR_train_996.png  pneumonia  \n",
       "2424  ./content/train/pneumonia/CXR_train_999.png  pneumonia  \n",
       "\n",
       "[2425 rows x 3 columns]"
      ]
     },
     "execution_count": 5,
     "metadata": {},
     "output_type": "execute_result"
    }
   ],
   "source": [
    "core_df= pd.DataFrame(data, columns= ['Image', 'Path', 'Event'])\n",
    "core_df"
   ]
  },
  {
   "cell_type": "markdown",
   "metadata": {
    "id": "T6A7CNrU196Q"
   },
   "source": [
    "#### Shuffle the data"
   ]
  },
  {
   "cell_type": "code",
   "execution_count": 6,
   "metadata": {
    "id": "XDs6fWy92qEq"
   },
   "outputs": [
    {
     "data": {
      "text/html": [
       "<div>\n",
       "<style scoped>\n",
       "    .dataframe tbody tr th:only-of-type {\n",
       "        vertical-align: middle;\n",
       "    }\n",
       "\n",
       "    .dataframe tbody tr th {\n",
       "        vertical-align: top;\n",
       "    }\n",
       "\n",
       "    .dataframe thead th {\n",
       "        text-align: right;\n",
       "    }\n",
       "</style>\n",
       "<table border=\"1\" class=\"dataframe\">\n",
       "  <thead>\n",
       "    <tr style=\"text-align: right;\">\n",
       "      <th></th>\n",
       "      <th>Image</th>\n",
       "      <th>Path</th>\n",
       "      <th>Event</th>\n",
       "    </tr>\n",
       "  </thead>\n",
       "  <tbody>\n",
       "    <tr>\n",
       "      <th>1277</th>\n",
       "      <td>[[9, 9, 9, 9, 9, 9, 9, 9, 9, 9, 8, 8, 9, 8, 8,...</td>\n",
       "      <td>./content/train/normal/CXR_train_994.png</td>\n",
       "      <td>normal</td>\n",
       "    </tr>\n",
       "    <tr>\n",
       "      <th>2278</th>\n",
       "      <td>[[167, 176, 186, 187, 191, 187, 180, 176, 170,...</td>\n",
       "      <td>./content/train/pneumonia/CXR_train_733.png</td>\n",
       "      <td>pneumonia</td>\n",
       "    </tr>\n",
       "    <tr>\n",
       "      <th>1298</th>\n",
       "      <td>[[0, 0, 0, 0, 0, 0, 0, 0, 0, 0, 0, 0, 0, 0, 0,...</td>\n",
       "      <td>./content/train/pneumonia/CXR_train_1035.png</td>\n",
       "      <td>pneumonia</td>\n",
       "    </tr>\n",
       "    <tr>\n",
       "      <th>2182</th>\n",
       "      <td>[[21, 16, 15, 12, 8, 4, 3, 2, 2, 2, 2, 2, 2, 2...</td>\n",
       "      <td>./content/train/pneumonia/CXR_train_527.png</td>\n",
       "      <td>pneumonia</td>\n",
       "    </tr>\n",
       "    <tr>\n",
       "      <th>1398</th>\n",
       "      <td>[[6, 5, 5, 5, 4, 3, 3, 3, 3, 6, 4, 3, 3, 3, 3,...</td>\n",
       "      <td>./content/train/pneumonia/CXR_train_123.png</td>\n",
       "      <td>pneumonia</td>\n",
       "    </tr>\n",
       "    <tr>\n",
       "      <th>...</th>\n",
       "      <td>...</td>\n",
       "      <td>...</td>\n",
       "      <td>...</td>\n",
       "    </tr>\n",
       "    <tr>\n",
       "      <th>1933</th>\n",
       "      <td>[[11, 9, 8, 8, 8, 8, 8, 8, 8, 8, 8, 8, 9, 8, 9...</td>\n",
       "      <td>./content/train/pneumonia/CXR_train_2221.png</td>\n",
       "      <td>pneumonia</td>\n",
       "    </tr>\n",
       "    <tr>\n",
       "      <th>256</th>\n",
       "      <td>[[1, 10, 30, 28, 27, 27, 25, 24, 24, 24, 24, 2...</td>\n",
       "      <td>./content/train/normal/CXR_train_1444.png</td>\n",
       "      <td>normal</td>\n",
       "    </tr>\n",
       "    <tr>\n",
       "      <th>299</th>\n",
       "      <td>[[13, 14, 15, 31, 44, 53, 47, 49, 36, 37, 20, ...</td>\n",
       "      <td>./content/train/normal/CXR_train_1512.png</td>\n",
       "      <td>normal</td>\n",
       "    </tr>\n",
       "    <tr>\n",
       "      <th>983</th>\n",
       "      <td>[[16, 15, 14, 14, 14, 13, 13, 13, 13, 13, 13, ...</td>\n",
       "      <td>./content/train/normal/CXR_train_499.png</td>\n",
       "      <td>normal</td>\n",
       "    </tr>\n",
       "    <tr>\n",
       "      <th>2394</th>\n",
       "      <td>[[69, 2, 0, 0, 2, 4, 5, 5, 5, 5, 5, 5, 5, 5, 5...</td>\n",
       "      <td>./content/train/pneumonia/CXR_train_954.png</td>\n",
       "      <td>pneumonia</td>\n",
       "    </tr>\n",
       "  </tbody>\n",
       "</table>\n",
       "<p>2425 rows × 3 columns</p>\n",
       "</div>"
      ],
      "text/plain": [
       "                                                  Image  \\\n",
       "1277  [[9, 9, 9, 9, 9, 9, 9, 9, 9, 9, 8, 8, 9, 8, 8,...   \n",
       "2278  [[167, 176, 186, 187, 191, 187, 180, 176, 170,...   \n",
       "1298  [[0, 0, 0, 0, 0, 0, 0, 0, 0, 0, 0, 0, 0, 0, 0,...   \n",
       "2182  [[21, 16, 15, 12, 8, 4, 3, 2, 2, 2, 2, 2, 2, 2...   \n",
       "1398  [[6, 5, 5, 5, 4, 3, 3, 3, 3, 6, 4, 3, 3, 3, 3,...   \n",
       "...                                                 ...   \n",
       "1933  [[11, 9, 8, 8, 8, 8, 8, 8, 8, 8, 8, 8, 9, 8, 9...   \n",
       "256   [[1, 10, 30, 28, 27, 27, 25, 24, 24, 24, 24, 2...   \n",
       "299   [[13, 14, 15, 31, 44, 53, 47, 49, 36, 37, 20, ...   \n",
       "983   [[16, 15, 14, 14, 14, 13, 13, 13, 13, 13, 13, ...   \n",
       "2394  [[69, 2, 0, 0, 2, 4, 5, 5, 5, 5, 5, 5, 5, 5, 5...   \n",
       "\n",
       "                                              Path      Event  \n",
       "1277      ./content/train/normal/CXR_train_994.png     normal  \n",
       "2278   ./content/train/pneumonia/CXR_train_733.png  pneumonia  \n",
       "1298  ./content/train/pneumonia/CXR_train_1035.png  pneumonia  \n",
       "2182   ./content/train/pneumonia/CXR_train_527.png  pneumonia  \n",
       "1398   ./content/train/pneumonia/CXR_train_123.png  pneumonia  \n",
       "...                                            ...        ...  \n",
       "1933  ./content/train/pneumonia/CXR_train_2221.png  pneumonia  \n",
       "256      ./content/train/normal/CXR_train_1444.png     normal  \n",
       "299      ./content/train/normal/CXR_train_1512.png     normal  \n",
       "983       ./content/train/normal/CXR_train_499.png     normal  \n",
       "2394   ./content/train/pneumonia/CXR_train_954.png  pneumonia  \n",
       "\n",
       "[2425 rows x 3 columns]"
      ]
     },
     "execution_count": 6,
     "metadata": {},
     "output_type": "execute_result"
    }
   ],
   "source": [
    "core_df = core_df.sample(frac = 1)\n",
    "core_df"
   ]
  },
  {
   "cell_type": "markdown",
   "metadata": {
    "id": "OeuKjzVg7NSb"
   },
   "source": [
    "#### Splitting the data into Train and Validation Set\n",
    "We want to check the performance of the model that we built. For this purpose, we always split (both independent and dependent data) the given data into training set which will be used to train the model, and test set which will be used to check how accurately the model is predicting outcomes.\n",
    "\n",
    "For this purpose we have a class called 'train_test_split' in the 'sklearn.model_selection' module."
   ]
  },
  {
   "cell_type": "code",
   "execution_count": 7,
   "metadata": {
    "id": "mBtGJmZj55SE"
   },
   "outputs": [],
   "source": [
    "# split the data\n",
    "X_train_df, X_test_df = train_test_split(core_df, test_size=0.25, random_state = 42)"
   ]
  },
  {
   "cell_type": "code",
   "execution_count": 8,
   "metadata": {
    "colab": {
     "base_uri": "https://localhost:8080/"
    },
    "id": "9NdGUQ8yqkNt",
    "outputId": "6e4d9521-1eea-49bf-a4b6-2296a824eeec"
   },
   "outputs": [
    {
     "name": "stdout",
     "output_type": "stream",
     "text": [
      "(1818, 3)\n",
      "(607, 3)\n"
     ]
    }
   ],
   "source": [
    "print(X_train_df.shape)\n",
    "print(X_test_df.shape)"
   ]
  },
  {
   "cell_type": "code",
   "execution_count": 9,
   "metadata": {},
   "outputs": [],
   "source": [
    "IMG_SIZE= (100, 100)\n",
    "BATCH_SIZE= 20\n",
    "train_idg = ImageDataGenerator(rescale= 1/255,\n",
    "                               samplewise_center= True,\n",
    "                               samplewise_std_normalization= True,\n",
    "                               horizontal_flip = True,\n",
    "                               height_shift_range= 0.05,\n",
    "                               width_shift_range= 0.1,\n",
    "                               rotation_range= 5,\n",
    "                               shear_range = 0.1,\n",
    "                               zoom_range= 0.15)\n",
    "\n",
    "test_idg = ImageDataGenerator(rescale= 1/255)"
   ]
  },
  {
   "cell_type": "code",
   "execution_count": 10,
   "metadata": {},
   "outputs": [
    {
     "name": "stdout",
     "output_type": "stream",
     "text": [
      "Found 1818 validated image filenames belonging to 2 classes.\n",
      "Found 607 validated image filenames belonging to 2 classes.\n"
     ]
    }
   ],
   "source": [
    "train_gen= train_idg.flow_from_dataframe(X_train_df,\n",
    "                                         x_col= 'Path',\n",
    "                                         y_col= 'Event',\n",
    "                                         target_size=(100, 100),\n",
    "                                         batch_size= BATCH_SIZE,\n",
    "                                         #color_mode= 'grayscale',\n",
    "                                         class_mode='binary')\n",
    "\n",
    "test_gen= test_idg.flow_from_dataframe(X_test_df,\n",
    "                                       x_col= 'Path',\n",
    "                                       y_col= 'Event',\n",
    "                                       target_size=(100, 100),\n",
    "                                       batch_size= BATCH_SIZE,\n",
    "                                       #color_mode= 'grayscale',\n",
    "                                       class_mode='binary')"
   ]
  },
  {
   "cell_type": "markdown",
   "metadata": {
    "id": "cDCZ53yE7340"
   },
   "source": [
    "## Building Model\n",
    "Now we are finally ready, and we can train the model.\n",
    "\n",
    "There are many machine learning or deep learning models like Random Forest, Decision Tree, Multi-Layer Perceptron (MLP), Convolution Neural Network (CNN), etc. to say you some.\n",
    "\n",
    "\n",
    "Then we would feed the model both with the data (X_train) and the answers for that data (y_train)"
   ]
  },
  {
   "cell_type": "code",
   "execution_count": 11,
   "metadata": {
    "id": "6cGaxe8AptFj"
   },
   "outputs": [],
   "source": [
    "\"\"\"# Pretrained Model\n",
    "base_model= DenseNet121(input_shape= (100, 100, 3),\n",
    "                        include_top= False)\n",
    "for layer in base_model.layers:\n",
    "    layer.trainable= False\n",
    "x= GlobalAveragePooling2D()(base_model.output)\n",
    "x= Dropout(0.2)(x)\n",
    "x= Dense(512, activation= 'relu')(x)\n",
    "#x= Dropout(0.5)(x)\n",
    "output= Dense(1, activation='sigmoid')(x)\n",
    "\"\"\"\n",
    "# Custom model\n",
    "model= Sequential([\n",
    "    Conv2D(64, 3, input_shape= (100, 100, 3)),\n",
    "    MaxPooling2D(2),\n",
    "    Conv2D(64, 3),\n",
    "    MaxPooling2D(2),\n",
    "    Conv2D(128, 3),\n",
    "    MaxPooling2D(2),\n",
    "    Conv2D(512, 3),\n",
    "    MaxPooling2D(2),\n",
    "    Conv2D(512, 3),\n",
    "    MaxPooling2D(2),\n",
    "    Flatten(),\n",
    "    #Dropout(0.2),\n",
    "    Dense(512, activation= 'relu'),\n",
    "    Dense(128, activation= 'relu'),\n",
    "    Dense(64, activation= 'relu'),\n",
    "    Dense(32, activation= 'relu'),\n",
    "    Dense(1, activation= 'sigmoid')\n",
    "])\n",
    "\n",
    "#model = Model(inputs=base_model.input, outputs= output)\n",
    "#lr_schedule = tf.keras.callbacks.LearningRateScheduler(lambda epoch: 1e-4 * 10**(epoch / 20))"
   ]
  },
  {
   "cell_type": "code",
   "execution_count": 12,
   "metadata": {
    "id": "-Vzg17FTs5bs"
   },
   "outputs": [],
   "source": [
    "opt = Adam(learning_rate= 2*1e-4)\n",
    "model.compile(optimizer=opt,\n",
    "              loss='binary_crossentropy',\n",
    "              metrics=['accuracy'])\n",
    "#model.summary()"
   ]
  },
  {
   "cell_type": "code",
   "execution_count": 13,
   "metadata": {
    "colab": {
     "base_uri": "https://localhost:8080/"
    },
    "id": "3EUMrKjitCt-",
    "outputId": "277d5b14-27d6-4f41-8161-7829d40196ca"
   },
   "outputs": [
    {
     "name": "stdout",
     "output_type": "stream",
     "text": [
      "Epoch 1/10\n",
      "90/90 [==============================] - 45s 467ms/step - loss: 0.6768 - accuracy: 0.5770 - val_loss: 0.7139 - val_accuracy: 0.4717\n",
      "Epoch 2/10\n",
      "90/90 [==============================] - 41s 457ms/step - loss: 0.6381 - accuracy: 0.6388 - val_loss: 0.6984 - val_accuracy: 0.4750\n",
      "Epoch 3/10\n",
      "90/90 [==============================] - 41s 458ms/step - loss: 0.6401 - accuracy: 0.6484 - val_loss: 0.6952 - val_accuracy: 0.4767\n",
      "Epoch 4/10\n",
      "90/90 [==============================] - 42s 466ms/step - loss: 0.6594 - accuracy: 0.6172 - val_loss: 0.6768 - val_accuracy: 0.5450\n",
      "Epoch 5/10\n",
      "90/90 [==============================] - 41s 461ms/step - loss: 0.6455 - accuracy: 0.6475 - val_loss: 0.6921 - val_accuracy: 0.4833\n",
      "Epoch 6/10\n",
      "90/90 [==============================] - 42s 468ms/step - loss: 0.6329 - accuracy: 0.6665 - val_loss: 0.6916 - val_accuracy: 0.4900\n",
      "Epoch 7/10\n",
      "90/90 [==============================] - 42s 464ms/step - loss: 0.6494 - accuracy: 0.6302 - val_loss: 0.7277 - val_accuracy: 0.4633\n",
      "Epoch 8/10\n",
      "90/90 [==============================] - 41s 459ms/step - loss: 0.6369 - accuracy: 0.6522 - val_loss: 0.6833 - val_accuracy: 0.5300\n",
      "Epoch 9/10\n",
      "90/90 [==============================] - 42s 461ms/step - loss: 0.6128 - accuracy: 0.6735 - val_loss: 0.6562 - val_accuracy: 0.6950\n",
      "Epoch 10/10\n",
      "90/90 [==============================] - 42s 467ms/step - loss: 0.6203 - accuracy: 0.6693 - val_loss: 0.7137 - val_accuracy: 0.4633\n"
     ]
    }
   ],
   "source": [
    "history= model.fit(train_gen, \n",
    "                   steps_per_epoch= 90,\n",
    "                   epochs= 10,\n",
    "                   validation_data= test_gen,\n",
    "                   validation_steps= 30)"
   ]
  },
  {
   "cell_type": "code",
   "execution_count": 14,
   "metadata": {},
   "outputs": [],
   "source": [
    "#lrs = 1e-4 * (10 ** (np.arange(10) / 20))\n",
    "#plt.semilogx(lrs, history.history[\"loss\"])\n",
    "#plt.axis([1e-4, 1e-2, 0, 3])"
   ]
  },
  {
   "cell_type": "code",
   "execution_count": 15,
   "metadata": {},
   "outputs": [
    {
     "data": {
      "image/png": "[encoded data removed]",
      "text/plain": [
       "<Figure size 432x288 with 1 Axes>"
      ]
     },
     "metadata": {
      "needs_background": "light"
     },
     "output_type": "display_data"
    },
    {
     "data": {
      "image/png": "[encoded data removed]",
      "text/plain": [
       "<Figure size 432x288 with 1 Axes>"
      ]
     },
     "metadata": {
      "needs_background": "light"
     },
     "output_type": "display_data"
    }
   ],
   "source": [
    "# summarize history for accuracy\n",
    "plt.plot(history.history['accuracy'])\n",
    "plt.plot(history.history['val_accuracy'])\n",
    "plt.title('model accuracy')\n",
    "plt.ylabel('accuracy')\n",
    "plt.xlabel('epoch')\n",
    "plt.legend(['train', 'test'], loc='upper left')\n",
    "plt.show()\n",
    "# summarize history for loss\n",
    "plt.plot(history.history['loss'])\n",
    "plt.plot(history.history['val_loss'])\n",
    "plt.title('model loss')\n",
    "plt.ylabel('loss')\n",
    "plt.xlabel('epoch')\n",
    "plt.legend(['train', 'test'], loc='upper left')\n",
    "plt.show()"
   ]
  },
  {
   "cell_type": "markdown",
   "metadata": {
    "id": "tc3lSJ2a-OYt"
   },
   "source": [
    "## Validate the model\n",
    "Wonder🤔 how well your model learned! Lets check its performance on the X_val data."
   ]
  },
  {
   "cell_type": "code",
   "execution_count": 16,
   "metadata": {
    "colab": {
     "base_uri": "https://localhost:8080/"
    },
    "id": "Fm9ShaEE9P5j",
    "outputId": "0ab932ab-505e-42a1-924f-f76bfb3581d0"
   },
   "outputs": [
    {
     "name": "stdout",
     "output_type": "stream",
     "text": [
      "31/31 [==============================] - 10s 319ms/step - loss: 0.7118 - accuracy: 0.4679\n"
     ]
    },
    {
     "data": {
      "text/plain": [
       "[0.7118082046508789, 0.46787479519844055]"
      ]
     },
     "execution_count": 16,
     "metadata": {},
     "output_type": "execute_result"
    }
   ],
   "source": [
    "model.evaluate(test_gen)"
   ]
  },
  {
   "cell_type": "markdown",
   "metadata": {
    "id": "kLrpm-If-lRT"
   },
   "source": [
    "## Predict The Output For Testing Dataset 😅\n",
    "We have trained our model, evaluated it and now finally we will predict the output/target for the testing data."
   ]
  },
  {
   "cell_type": "markdown",
   "metadata": {
    "id": "nG70J6Un-s2G"
   },
   "source": [
    "#### Load Test Set\n",
    "Load the test data on which final submission is to be made."
   ]
  },
  {
   "cell_type": "code",
   "execution_count": 17,
   "metadata": {
    "colab": {
     "base_uri": "https://localhost:8080/",
     "height": 195
    },
    "id": "iji8OaFF-fSp",
    "outputId": "2c1f15c1-a6ed-4a1f-f56a-897c579d4800"
   },
   "outputs": [
    {
     "data": {
      "text/html": [
       "<div>\n",
       "<style scoped>\n",
       "    .dataframe tbody tr th:only-of-type {\n",
       "        vertical-align: middle;\n",
       "    }\n",
       "\n",
       "    .dataframe tbody tr th {\n",
       "        vertical-align: top;\n",
       "    }\n",
       "\n",
       "    .dataframe thead th {\n",
       "        text-align: right;\n",
       "    }\n",
       "</style>\n",
       "<table border=\"1\" class=\"dataframe\">\n",
       "  <thead>\n",
       "    <tr style=\"text-align: right;\">\n",
       "      <th></th>\n",
       "      <th>filename</th>\n",
       "    </tr>\n",
       "  </thead>\n",
       "  <tbody>\n",
       "    <tr>\n",
       "      <th>0</th>\n",
       "      <td>CXR_test_519.png</td>\n",
       "    </tr>\n",
       "    <tr>\n",
       "      <th>1</th>\n",
       "      <td>CXR_test_578.png</td>\n",
       "    </tr>\n",
       "    <tr>\n",
       "      <th>2</th>\n",
       "      <td>CXR_test_359.png</td>\n",
       "    </tr>\n",
       "    <tr>\n",
       "      <th>3</th>\n",
       "      <td>CXR_test_573.png</td>\n",
       "    </tr>\n",
       "    <tr>\n",
       "      <th>4</th>\n",
       "      <td>CXR_test_471.png</td>\n",
       "    </tr>\n",
       "  </tbody>\n",
       "</table>\n",
       "</div>"
      ],
      "text/plain": [
       "           filename\n",
       "0  CXR_test_519.png\n",
       "1  CXR_test_578.png\n",
       "2  CXR_test_359.png\n",
       "3  CXR_test_573.png\n",
       "4  CXR_test_471.png"
      ]
     },
     "execution_count": 17,
     "metadata": {},
     "output_type": "execute_result"
    }
   ],
   "source": [
    "# Loading the order of the image's name that has been provided\n",
    "test_image_order = pd.read_csv(\"./content/test.csv\")\n",
    "test_image_order.head()"
   ]
  },
  {
   "cell_type": "markdown",
   "metadata": {
    "id": "XhszUWXEAABu"
   },
   "source": [
    "#### Getting images file path"
   ]
  },
  {
   "cell_type": "code",
   "execution_count": 18,
   "metadata": {
    "id": "657fCek3_IhD"
   },
   "outputs": [],
   "source": [
    "file_paths = [[fname, './content/test/' + fname] for fname in test_image_order['filename']]"
   ]
  },
  {
   "cell_type": "markdown",
   "metadata": {
    "id": "xmrgyltpALYg"
   },
   "source": [
    "#### Confirm if number of images in test folder is same as number of image names in 'Testing_set_face_mask.csv'"
   ]
  },
  {
   "cell_type": "code",
   "execution_count": 19,
   "metadata": {
    "colab": {
     "base_uri": "https://localhost:8080/"
    },
    "id": "telGIa0JADdO",
    "outputId": "32ef0c3b-ebc1-427d-f098-7b79a6c10a07"
   },
   "outputs": [
    {
     "name": "stdout",
     "output_type": "stream",
     "text": [
      "Number of image names i.e.  606 matches the number of file paths i.e.  606\n"
     ]
    }
   ],
   "source": [
    "# Confirm if number of images is same as number of labels given\n",
    "if len(test_image_order) == len(file_paths):\n",
    "    print('Number of image names i.e. ', len(test_image_order), 'matches the number of file paths i.e. ', len(file_paths))\n",
    "else:\n",
    "    print('Number of image names does not match the number of filepaths')"
   ]
  },
  {
   "cell_type": "markdown",
   "metadata": {
    "id": "Wsa94YfqBInJ"
   },
   "source": [
    "#### Converting the file_paths to dataframe"
   ]
  },
  {
   "cell_type": "code",
   "execution_count": 20,
   "metadata": {
    "colab": {
     "base_uri": "https://localhost:8080/",
     "height": 195
    },
    "id": "3nH9rUnQBSnf",
    "outputId": "3feec869-5495-4380-ba06-2639decd001e"
   },
   "outputs": [
    {
     "data": {
      "text/html": [
       "<div>\n",
       "<style scoped>\n",
       "    .dataframe tbody tr th:only-of-type {\n",
       "        vertical-align: middle;\n",
       "    }\n",
       "\n",
       "    .dataframe tbody tr th {\n",
       "        vertical-align: top;\n",
       "    }\n",
       "\n",
       "    .dataframe thead th {\n",
       "        text-align: right;\n",
       "    }\n",
       "</style>\n",
       "<table border=\"1\" class=\"dataframe\">\n",
       "  <thead>\n",
       "    <tr style=\"text-align: right;\">\n",
       "      <th></th>\n",
       "      <th>filename</th>\n",
       "      <th>filepaths</th>\n",
       "    </tr>\n",
       "  </thead>\n",
       "  <tbody>\n",
       "    <tr>\n",
       "      <th>0</th>\n",
       "      <td>CXR_test_519.png</td>\n",
       "      <td>./content/test/CXR_test_519.png</td>\n",
       "    </tr>\n",
       "    <tr>\n",
       "      <th>1</th>\n",
       "      <td>CXR_test_578.png</td>\n",
       "      <td>./content/test/CXR_test_578.png</td>\n",
       "    </tr>\n",
       "    <tr>\n",
       "      <th>2</th>\n",
       "      <td>CXR_test_359.png</td>\n",
       "      <td>./content/test/CXR_test_359.png</td>\n",
       "    </tr>\n",
       "    <tr>\n",
       "      <th>3</th>\n",
       "      <td>CXR_test_573.png</td>\n",
       "      <td>./content/test/CXR_test_573.png</td>\n",
       "    </tr>\n",
       "    <tr>\n",
       "      <th>4</th>\n",
       "      <td>CXR_test_471.png</td>\n",
       "      <td>./content/test/CXR_test_471.png</td>\n",
       "    </tr>\n",
       "  </tbody>\n",
       "</table>\n",
       "</div>"
      ],
      "text/plain": [
       "           filename                        filepaths\n",
       "0  CXR_test_519.png  ./content/test/CXR_test_519.png\n",
       "1  CXR_test_578.png  ./content/test/CXR_test_578.png\n",
       "2  CXR_test_359.png  ./content/test/CXR_test_359.png\n",
       "3  CXR_test_573.png  ./content/test/CXR_test_573.png\n",
       "4  CXR_test_471.png  ./content/test/CXR_test_471.png"
      ]
     },
     "execution_count": 20,
     "metadata": {},
     "output_type": "execute_result"
    }
   ],
   "source": [
    "test_images = pd.DataFrame(file_paths, columns=['filename', 'filepaths'])\n",
    "test_images.head()"
   ]
  },
  {
   "cell_type": "markdown",
   "metadata": {
    "id": "ZqSujaW0CRi9"
   },
   "source": [
    "## Data Pre-processing on test_data\n"
   ]
  },
  {
   "cell_type": "code",
   "execution_count": 21,
   "metadata": {
    "id": "Wy7-NZ7TCiSQ"
   },
   "outputs": [],
   "source": [
    "test_pixel_data = []     # initialize an empty numpy array\n",
    "for i in range(len(test_images)):\n",
    "  \n",
    "  img_array = cv2.imread(test_images['filepaths'][i], cv2.IMREAD_GRAYSCALE)   # converting the image to gray scale\n",
    "  new_img_array=cv2.resize(img_array,(img_size,img_size))\n",
    "  test_pixel_data.append(new_img_array)"
   ]
  },
  {
   "cell_type": "code",
   "execution_count": 22,
   "metadata": {
    "id": "7KNDswlffvYq"
   },
   "outputs": [],
   "source": [
    "test_pixel_data = np.asarray(test_pixel_data)"
   ]
  },
  {
   "cell_type": "code",
   "execution_count": 23,
   "metadata": {
    "id": "OX9c0GGI7Vue"
   },
   "outputs": [],
   "source": [
    "test_pixel_data =  test_pixel_data.reshape(-1, 100, 100, 1)"
   ]
  },
  {
   "cell_type": "code",
   "execution_count": 24,
   "metadata": {
    "colab": {
     "base_uri": "https://localhost:8080/"
    },
    "id": "CoUBMBmz7lOA",
    "outputId": "1e8af4e2-afbc-4baf-834b-bb54eeba2391"
   },
   "outputs": [
    {
     "data": {
      "text/plain": [
       "array([[[[  3],\n",
       "         [  3],\n",
       "         [  3],\n",
       "         ...,\n",
       "         [  5],\n",
       "         [  6],\n",
       "         [  7]],\n",
       "\n",
       "        [[  3],\n",
       "         [  2],\n",
       "         [  2],\n",
       "         ...,\n",
       "         [  5],\n",
       "         [  6],\n",
       "         [  6]],\n",
       "\n",
       "        [[  4],\n",
       "         [  2],\n",
       "         [  2],\n",
       "         ...,\n",
       "         [  5],\n",
       "         [  5],\n",
       "         [  6]],\n",
       "\n",
       "        ...,\n",
       "\n",
       "        [[  7],\n",
       "         [  5],\n",
       "         [  3],\n",
       "         ...,\n",
       "         [100],\n",
       "         [ 85],\n",
       "         [ 64]],\n",
       "\n",
       "        [[  7],\n",
       "         [  4],\n",
       "         [  3],\n",
       "         ...,\n",
       "         [106],\n",
       "         [ 97],\n",
       "         [ 71]],\n",
       "\n",
       "        [[  5],\n",
       "         [  3],\n",
       "         [  3],\n",
       "         ...,\n",
       "         [103],\n",
       "         [ 94],\n",
       "         [ 72]]],\n",
       "\n",
       "\n",
       "       [[[  0],\n",
       "         [  0],\n",
       "         [  0],\n",
       "         ...,\n",
       "         [  0],\n",
       "         [  0],\n",
       "         [  0]],\n",
       "\n",
       "        [[  0],\n",
       "         [  0],\n",
       "         [  0],\n",
       "         ...,\n",
       "         [  0],\n",
       "         [  0],\n",
       "         [  0]],\n",
       "\n",
       "        [[  0],\n",
       "         [  0],\n",
       "         [  0],\n",
       "         ...,\n",
       "         [  0],\n",
       "         [  0],\n",
       "         [  0]],\n",
       "\n",
       "        ...,\n",
       "\n",
       "        [[189],\n",
       "         [196],\n",
       "         [204],\n",
       "         ...,\n",
       "         [  0],\n",
       "         [  0],\n",
       "         [  0]],\n",
       "\n",
       "        [[198],\n",
       "         [206],\n",
       "         [212],\n",
       "         ...,\n",
       "         [ 16],\n",
       "         [  0],\n",
       "         [  0]],\n",
       "\n",
       "        [[208],\n",
       "         [220],\n",
       "         [219],\n",
       "         ...,\n",
       "         [ 51],\n",
       "         [  0],\n",
       "         [  0]]],\n",
       "\n",
       "\n",
       "       [[[  8],\n",
       "         [  8],\n",
       "         [  7],\n",
       "         ...,\n",
       "         [  8],\n",
       "         [  8],\n",
       "         [  9]],\n",
       "\n",
       "        [[  8],\n",
       "         [  7],\n",
       "         [  7],\n",
       "         ...,\n",
       "         [  7],\n",
       "         [  8],\n",
       "         [  9]],\n",
       "\n",
       "        [[  8],\n",
       "         [  7],\n",
       "         [  7],\n",
       "         ...,\n",
       "         [  7],\n",
       "         [  7],\n",
       "         [  9]],\n",
       "\n",
       "        ...,\n",
       "\n",
       "        [[209],\n",
       "         [218],\n",
       "         [225],\n",
       "         ...,\n",
       "         [141],\n",
       "         [131],\n",
       "         [126]],\n",
       "\n",
       "        [[217],\n",
       "         [225],\n",
       "         [229],\n",
       "         ...,\n",
       "         [169],\n",
       "         [170],\n",
       "         [195]],\n",
       "\n",
       "        [[236],\n",
       "         [238],\n",
       "         [238],\n",
       "         ...,\n",
       "         [243],\n",
       "         [243],\n",
       "         [243]]],\n",
       "\n",
       "\n",
       "       ...,\n",
       "\n",
       "\n",
       "       [[[  5],\n",
       "         [  5],\n",
       "         [  5],\n",
       "         ...,\n",
       "         [  7],\n",
       "         [  7],\n",
       "         [  7]],\n",
       "\n",
       "        [[  5],\n",
       "         [  6],\n",
       "         [  5],\n",
       "         ...,\n",
       "         [  7],\n",
       "         [  7],\n",
       "         [  7]],\n",
       "\n",
       "        [[  5],\n",
       "         [  5],\n",
       "         [  5],\n",
       "         ...,\n",
       "         [  6],\n",
       "         [  7],\n",
       "         [  7]],\n",
       "\n",
       "        ...,\n",
       "\n",
       "        [[  9],\n",
       "         [  9],\n",
       "         [  9],\n",
       "         ...,\n",
       "         [ 17],\n",
       "         [ 18],\n",
       "         [ 20]],\n",
       "\n",
       "        [[  9],\n",
       "         [  9],\n",
       "         [  9],\n",
       "         ...,\n",
       "         [ 18],\n",
       "         [ 18],\n",
       "         [ 27]],\n",
       "\n",
       "        [[  9],\n",
       "         [  9],\n",
       "         [  9],\n",
       "         ...,\n",
       "         [ 17],\n",
       "         [ 18],\n",
       "         [ 19]]],\n",
       "\n",
       "\n",
       "       [[[128],\n",
       "         [ 37],\n",
       "         [ 16],\n",
       "         ...,\n",
       "         [ 11],\n",
       "         [ 11],\n",
       "         [ 11]],\n",
       "\n",
       "        [[132],\n",
       "         [ 38],\n",
       "         [ 16],\n",
       "         ...,\n",
       "         [ 11],\n",
       "         [ 11],\n",
       "         [ 11]],\n",
       "\n",
       "        [[132],\n",
       "         [ 38],\n",
       "         [ 16],\n",
       "         ...,\n",
       "         [ 11],\n",
       "         [ 11],\n",
       "         [ 11]],\n",
       "\n",
       "        ...,\n",
       "\n",
       "        [[213],\n",
       "         [100],\n",
       "         [ 35],\n",
       "         ...,\n",
       "         [ 14],\n",
       "         [ 14],\n",
       "         [ 14]],\n",
       "\n",
       "        [[  0],\n",
       "         [  0],\n",
       "         [  0],\n",
       "         ...,\n",
       "         [  0],\n",
       "         [  0],\n",
       "         [  0]],\n",
       "\n",
       "        [[  0],\n",
       "         [  0],\n",
       "         [  0],\n",
       "         ...,\n",
       "         [  0],\n",
       "         [  0],\n",
       "         [  0]]],\n",
       "\n",
       "\n",
       "       [[[  7],\n",
       "         [  7],\n",
       "         [  7],\n",
       "         ...,\n",
       "         [  5],\n",
       "         [  5],\n",
       "         [  5]],\n",
       "\n",
       "        [[  6],\n",
       "         [  6],\n",
       "         [  6],\n",
       "         ...,\n",
       "         [  5],\n",
       "         [  5],\n",
       "         [  5]],\n",
       "\n",
       "        [[  6],\n",
       "         [  6],\n",
       "         [  6],\n",
       "         ...,\n",
       "         [  5],\n",
       "         [  5],\n",
       "         [  5]],\n",
       "\n",
       "        ...,\n",
       "\n",
       "        [[ 52],\n",
       "         [ 63],\n",
       "         [ 63],\n",
       "         ...,\n",
       "         [ 69],\n",
       "         [ 24],\n",
       "         [  1]],\n",
       "\n",
       "        [[ 48],\n",
       "         [ 64],\n",
       "         [ 66],\n",
       "         ...,\n",
       "         [ 86],\n",
       "         [ 31],\n",
       "         [  2]],\n",
       "\n",
       "        [[ 52],\n",
       "         [ 62],\n",
       "         [ 61],\n",
       "         ...,\n",
       "         [ 96],\n",
       "         [ 47],\n",
       "         [  1]]]], dtype=uint8)"
      ]
     },
     "execution_count": 24,
     "metadata": {},
     "output_type": "execute_result"
    }
   ],
   "source": [
    "test_pixel_data"
   ]
  },
  {
   "cell_type": "markdown",
   "metadata": {
    "id": "AxtDS6-0J0s2"
   },
   "source": [
    "### Make Prediction on Test Dataset\n",
    "Time to make a submission!!!"
   ]
  },
  {
   "cell_type": "code",
   "execution_count": 25,
   "metadata": {
    "id": "yXLCDKVrJuzY"
   },
   "outputs": [
    {
     "ename": "ValueError",
     "evalue": "in user code:\n\n    C:\\Users\\domen\\AppData\\Roaming\\Python\\Python37\\site-packages\\tensorflow\\python\\keras\\engine\\training.py:1478 predict_function  *\n        return step_function(self, iterator)\n    C:\\Users\\domen\\AppData\\Roaming\\Python\\Python37\\site-packages\\tensorflow\\python\\keras\\engine\\training.py:1468 step_function  **\n        outputs = model.distribute_strategy.run(run_step, args=(data,))\n    C:\\Users\\domen\\AppData\\Roaming\\Python\\Python37\\site-packages\\tensorflow\\python\\distribute\\distribute_lib.py:1259 run\n        return self._extended.call_for_each_replica(fn, args=args, kwargs=kwargs)\n    C:\\Users\\domen\\AppData\\Roaming\\Python\\Python37\\site-packages\\tensorflow\\python\\distribute\\distribute_lib.py:2730 call_for_each_replica\n        return self._call_for_each_replica(fn, args, kwargs)\n    C:\\Users\\domen\\AppData\\Roaming\\Python\\Python37\\site-packages\\tensorflow\\python\\distribute\\distribute_lib.py:3417 _call_for_each_replica\n        return fn(*args, **kwargs)\n    C:\\Users\\domen\\AppData\\Roaming\\Python\\Python37\\site-packages\\tensorflow\\python\\keras\\engine\\training.py:1461 run_step  **\n        outputs = model.predict_step(data)\n    C:\\Users\\domen\\AppData\\Roaming\\Python\\Python37\\site-packages\\tensorflow\\python\\keras\\engine\\training.py:1434 predict_step\n        return self(x, training=False)\n    C:\\Users\\domen\\AppData\\Roaming\\Python\\Python37\\site-packages\\tensorflow\\python\\keras\\engine\\base_layer.py:998 __call__\n        input_spec.assert_input_compatibility(self.input_spec, inputs, self.name)\n    C:\\Users\\domen\\AppData\\Roaming\\Python\\Python37\\site-packages\\tensorflow\\python\\keras\\engine\\input_spec.py:259 assert_input_compatibility\n        ' but received input with shape ' + display_shape(x.shape))\n\n    ValueError: Input 0 of layer sequential is incompatible with the layer: expected axis -1 of input shape to have value 3 but received input with shape (None, 100, 100, 1)\n",
     "output_type": "error",
     "traceback": [
      "\u001b[1;31m---------------------------------------------------------------------------\u001b[0m",
      "\u001b[1;31mValueError\u001b[0m                                Traceback (most recent call last)",
      "\u001b[1;32m<ipython-input-25-1ec956a4c809>\u001b[0m in \u001b[0;36m<module>\u001b[1;34m\u001b[0m\n\u001b[1;32m----> 1\u001b[1;33m \u001b[0mpred\u001b[0m \u001b[1;33m=\u001b[0m \u001b[0mmodel\u001b[0m\u001b[1;33m.\u001b[0m\u001b[0mpredict\u001b[0m\u001b[1;33m(\u001b[0m\u001b[0mtest_pixel_data\u001b[0m\u001b[1;33m)\u001b[0m\u001b[1;33m\u001b[0m\u001b[1;33m\u001b[0m\u001b[0m\n\u001b[0m",
      "\u001b[1;32m~\\AppData\\Roaming\\Python\\Python37\\site-packages\\tensorflow\\python\\keras\\engine\\training.py\u001b[0m in \u001b[0;36mpredict\u001b[1;34m(self, x, batch_size, verbose, steps, callbacks, max_queue_size, workers, use_multiprocessing)\u001b[0m\n\u001b[0;32m   1627\u001b[0m           \u001b[1;32mfor\u001b[0m \u001b[0mstep\u001b[0m \u001b[1;32min\u001b[0m \u001b[0mdata_handler\u001b[0m\u001b[1;33m.\u001b[0m\u001b[0msteps\u001b[0m\u001b[1;33m(\u001b[0m\u001b[1;33m)\u001b[0m\u001b[1;33m:\u001b[0m\u001b[1;33m\u001b[0m\u001b[1;33m\u001b[0m\u001b[0m\n\u001b[0;32m   1628\u001b[0m             \u001b[0mcallbacks\u001b[0m\u001b[1;33m.\u001b[0m\u001b[0mon_predict_batch_begin\u001b[0m\u001b[1;33m(\u001b[0m\u001b[0mstep\u001b[0m\u001b[1;33m)\u001b[0m\u001b[1;33m\u001b[0m\u001b[1;33m\u001b[0m\u001b[0m\n\u001b[1;32m-> 1629\u001b[1;33m             \u001b[0mtmp_batch_outputs\u001b[0m \u001b[1;33m=\u001b[0m \u001b[0mself\u001b[0m\u001b[1;33m.\u001b[0m\u001b[0mpredict_function\u001b[0m\u001b[1;33m(\u001b[0m\u001b[0miterator\u001b[0m\u001b[1;33m)\u001b[0m\u001b[1;33m\u001b[0m\u001b[1;33m\u001b[0m\u001b[0m\n\u001b[0m\u001b[0;32m   1630\u001b[0m             \u001b[1;32mif\u001b[0m \u001b[0mdata_handler\u001b[0m\u001b[1;33m.\u001b[0m\u001b[0mshould_sync\u001b[0m\u001b[1;33m:\u001b[0m\u001b[1;33m\u001b[0m\u001b[1;33m\u001b[0m\u001b[0m\n\u001b[0;32m   1631\u001b[0m               \u001b[0mcontext\u001b[0m\u001b[1;33m.\u001b[0m\u001b[0masync_wait\u001b[0m\u001b[1;33m(\u001b[0m\u001b[1;33m)\u001b[0m\u001b[1;33m\u001b[0m\u001b[1;33m\u001b[0m\u001b[0m\n",
      "\u001b[1;32m~\\AppData\\Roaming\\Python\\Python37\\site-packages\\tensorflow\\python\\eager\\def_function.py\u001b[0m in \u001b[0;36m__call__\u001b[1;34m(self, *args, **kwds)\u001b[0m\n\u001b[0;32m    826\u001b[0m     \u001b[0mtracing_count\u001b[0m \u001b[1;33m=\u001b[0m \u001b[0mself\u001b[0m\u001b[1;33m.\u001b[0m\u001b[0mexperimental_get_tracing_count\u001b[0m\u001b[1;33m(\u001b[0m\u001b[1;33m)\u001b[0m\u001b[1;33m\u001b[0m\u001b[1;33m\u001b[0m\u001b[0m\n\u001b[0;32m    827\u001b[0m     \u001b[1;32mwith\u001b[0m \u001b[0mtrace\u001b[0m\u001b[1;33m.\u001b[0m\u001b[0mTrace\u001b[0m\u001b[1;33m(\u001b[0m\u001b[0mself\u001b[0m\u001b[1;33m.\u001b[0m\u001b[0m_name\u001b[0m\u001b[1;33m)\u001b[0m \u001b[1;32mas\u001b[0m \u001b[0mtm\u001b[0m\u001b[1;33m:\u001b[0m\u001b[1;33m\u001b[0m\u001b[1;33m\u001b[0m\u001b[0m\n\u001b[1;32m--> 828\u001b[1;33m       \u001b[0mresult\u001b[0m \u001b[1;33m=\u001b[0m \u001b[0mself\u001b[0m\u001b[1;33m.\u001b[0m\u001b[0m_call\u001b[0m\u001b[1;33m(\u001b[0m\u001b[1;33m*\u001b[0m\u001b[0margs\u001b[0m\u001b[1;33m,\u001b[0m \u001b[1;33m**\u001b[0m\u001b[0mkwds\u001b[0m\u001b[1;33m)\u001b[0m\u001b[1;33m\u001b[0m\u001b[1;33m\u001b[0m\u001b[0m\n\u001b[0m\u001b[0;32m    829\u001b[0m       \u001b[0mcompiler\u001b[0m \u001b[1;33m=\u001b[0m \u001b[1;34m\"xla\"\u001b[0m \u001b[1;32mif\u001b[0m \u001b[0mself\u001b[0m\u001b[1;33m.\u001b[0m\u001b[0m_experimental_compile\u001b[0m \u001b[1;32melse\u001b[0m \u001b[1;34m\"nonXla\"\u001b[0m\u001b[1;33m\u001b[0m\u001b[1;33m\u001b[0m\u001b[0m\n\u001b[0;32m    830\u001b[0m       \u001b[0mnew_tracing_count\u001b[0m \u001b[1;33m=\u001b[0m \u001b[0mself\u001b[0m\u001b[1;33m.\u001b[0m\u001b[0mexperimental_get_tracing_count\u001b[0m\u001b[1;33m(\u001b[0m\u001b[1;33m)\u001b[0m\u001b[1;33m\u001b[0m\u001b[1;33m\u001b[0m\u001b[0m\n",
      "\u001b[1;32m~\\AppData\\Roaming\\Python\\Python37\\site-packages\\tensorflow\\python\\eager\\def_function.py\u001b[0m in \u001b[0;36m_call\u001b[1;34m(self, *args, **kwds)\u001b[0m\n\u001b[0;32m    869\u001b[0m       \u001b[1;31m# This is the first call of __call__, so we have to initialize.\u001b[0m\u001b[1;33m\u001b[0m\u001b[1;33m\u001b[0m\u001b[1;33m\u001b[0m\u001b[0m\n\u001b[0;32m    870\u001b[0m       \u001b[0minitializers\u001b[0m \u001b[1;33m=\u001b[0m \u001b[1;33m[\u001b[0m\u001b[1;33m]\u001b[0m\u001b[1;33m\u001b[0m\u001b[1;33m\u001b[0m\u001b[0m\n\u001b[1;32m--> 871\u001b[1;33m       \u001b[0mself\u001b[0m\u001b[1;33m.\u001b[0m\u001b[0m_initialize\u001b[0m\u001b[1;33m(\u001b[0m\u001b[0margs\u001b[0m\u001b[1;33m,\u001b[0m \u001b[0mkwds\u001b[0m\u001b[1;33m,\u001b[0m \u001b[0madd_initializers_to\u001b[0m\u001b[1;33m=\u001b[0m\u001b[0minitializers\u001b[0m\u001b[1;33m)\u001b[0m\u001b[1;33m\u001b[0m\u001b[1;33m\u001b[0m\u001b[0m\n\u001b[0m\u001b[0;32m    872\u001b[0m     \u001b[1;32mfinally\u001b[0m\u001b[1;33m:\u001b[0m\u001b[1;33m\u001b[0m\u001b[1;33m\u001b[0m\u001b[0m\n\u001b[0;32m    873\u001b[0m       \u001b[1;31m# At this point we know that the initialization is complete (or less\u001b[0m\u001b[1;33m\u001b[0m\u001b[1;33m\u001b[0m\u001b[1;33m\u001b[0m\u001b[0m\n",
      "\u001b[1;32m~\\AppData\\Roaming\\Python\\Python37\\site-packages\\tensorflow\\python\\eager\\def_function.py\u001b[0m in \u001b[0;36m_initialize\u001b[1;34m(self, args, kwds, add_initializers_to)\u001b[0m\n\u001b[0;32m    724\u001b[0m     self._concrete_stateful_fn = (\n\u001b[0;32m    725\u001b[0m         self._stateful_fn._get_concrete_function_internal_garbage_collected(  # pylint: disable=protected-access\n\u001b[1;32m--> 726\u001b[1;33m             *args, **kwds))\n\u001b[0m\u001b[0;32m    727\u001b[0m \u001b[1;33m\u001b[0m\u001b[0m\n\u001b[0;32m    728\u001b[0m     \u001b[1;32mdef\u001b[0m \u001b[0minvalid_creator_scope\u001b[0m\u001b[1;33m(\u001b[0m\u001b[1;33m*\u001b[0m\u001b[0munused_args\u001b[0m\u001b[1;33m,\u001b[0m \u001b[1;33m**\u001b[0m\u001b[0munused_kwds\u001b[0m\u001b[1;33m)\u001b[0m\u001b[1;33m:\u001b[0m\u001b[1;33m\u001b[0m\u001b[1;33m\u001b[0m\u001b[0m\n",
      "\u001b[1;32m~\\AppData\\Roaming\\Python\\Python37\\site-packages\\tensorflow\\python\\eager\\function.py\u001b[0m in \u001b[0;36m_get_concrete_function_internal_garbage_collected\u001b[1;34m(self, *args, **kwargs)\u001b[0m\n\u001b[0;32m   2967\u001b[0m       \u001b[0margs\u001b[0m\u001b[1;33m,\u001b[0m \u001b[0mkwargs\u001b[0m \u001b[1;33m=\u001b[0m \u001b[1;32mNone\u001b[0m\u001b[1;33m,\u001b[0m \u001b[1;32mNone\u001b[0m\u001b[1;33m\u001b[0m\u001b[1;33m\u001b[0m\u001b[0m\n\u001b[0;32m   2968\u001b[0m     \u001b[1;32mwith\u001b[0m \u001b[0mself\u001b[0m\u001b[1;33m.\u001b[0m\u001b[0m_lock\u001b[0m\u001b[1;33m:\u001b[0m\u001b[1;33m\u001b[0m\u001b[1;33m\u001b[0m\u001b[0m\n\u001b[1;32m-> 2969\u001b[1;33m       \u001b[0mgraph_function\u001b[0m\u001b[1;33m,\u001b[0m \u001b[0m_\u001b[0m \u001b[1;33m=\u001b[0m \u001b[0mself\u001b[0m\u001b[1;33m.\u001b[0m\u001b[0m_maybe_define_function\u001b[0m\u001b[1;33m(\u001b[0m\u001b[0margs\u001b[0m\u001b[1;33m,\u001b[0m \u001b[0mkwargs\u001b[0m\u001b[1;33m)\u001b[0m\u001b[1;33m\u001b[0m\u001b[1;33m\u001b[0m\u001b[0m\n\u001b[0m\u001b[0;32m   2970\u001b[0m     \u001b[1;32mreturn\u001b[0m \u001b[0mgraph_function\u001b[0m\u001b[1;33m\u001b[0m\u001b[1;33m\u001b[0m\u001b[0m\n\u001b[0;32m   2971\u001b[0m \u001b[1;33m\u001b[0m\u001b[0m\n",
      "\u001b[1;32m~\\AppData\\Roaming\\Python\\Python37\\site-packages\\tensorflow\\python\\eager\\function.py\u001b[0m in \u001b[0;36m_maybe_define_function\u001b[1;34m(self, args, kwargs)\u001b[0m\n\u001b[0;32m   3359\u001b[0m \u001b[1;33m\u001b[0m\u001b[0m\n\u001b[0;32m   3360\u001b[0m           \u001b[0mself\u001b[0m\u001b[1;33m.\u001b[0m\u001b[0m_function_cache\u001b[0m\u001b[1;33m.\u001b[0m\u001b[0mmissed\u001b[0m\u001b[1;33m.\u001b[0m\u001b[0madd\u001b[0m\u001b[1;33m(\u001b[0m\u001b[0mcall_context_key\u001b[0m\u001b[1;33m)\u001b[0m\u001b[1;33m\u001b[0m\u001b[1;33m\u001b[0m\u001b[0m\n\u001b[1;32m-> 3361\u001b[1;33m           \u001b[0mgraph_function\u001b[0m \u001b[1;33m=\u001b[0m \u001b[0mself\u001b[0m\u001b[1;33m.\u001b[0m\u001b[0m_create_graph_function\u001b[0m\u001b[1;33m(\u001b[0m\u001b[0margs\u001b[0m\u001b[1;33m,\u001b[0m \u001b[0mkwargs\u001b[0m\u001b[1;33m)\u001b[0m\u001b[1;33m\u001b[0m\u001b[1;33m\u001b[0m\u001b[0m\n\u001b[0m\u001b[0;32m   3362\u001b[0m           \u001b[0mself\u001b[0m\u001b[1;33m.\u001b[0m\u001b[0m_function_cache\u001b[0m\u001b[1;33m.\u001b[0m\u001b[0mprimary\u001b[0m\u001b[1;33m[\u001b[0m\u001b[0mcache_key\u001b[0m\u001b[1;33m]\u001b[0m \u001b[1;33m=\u001b[0m \u001b[0mgraph_function\u001b[0m\u001b[1;33m\u001b[0m\u001b[1;33m\u001b[0m\u001b[0m\n\u001b[0;32m   3363\u001b[0m \u001b[1;33m\u001b[0m\u001b[0m\n",
      "\u001b[1;32m~\\AppData\\Roaming\\Python\\Python37\\site-packages\\tensorflow\\python\\eager\\function.py\u001b[0m in \u001b[0;36m_create_graph_function\u001b[1;34m(self, args, kwargs, override_flat_arg_shapes)\u001b[0m\n\u001b[0;32m   3204\u001b[0m             \u001b[0marg_names\u001b[0m\u001b[1;33m=\u001b[0m\u001b[0marg_names\u001b[0m\u001b[1;33m,\u001b[0m\u001b[1;33m\u001b[0m\u001b[1;33m\u001b[0m\u001b[0m\n\u001b[0;32m   3205\u001b[0m             \u001b[0moverride_flat_arg_shapes\u001b[0m\u001b[1;33m=\u001b[0m\u001b[0moverride_flat_arg_shapes\u001b[0m\u001b[1;33m,\u001b[0m\u001b[1;33m\u001b[0m\u001b[1;33m\u001b[0m\u001b[0m\n\u001b[1;32m-> 3206\u001b[1;33m             capture_by_value=self._capture_by_value),\n\u001b[0m\u001b[0;32m   3207\u001b[0m         \u001b[0mself\u001b[0m\u001b[1;33m.\u001b[0m\u001b[0m_function_attributes\u001b[0m\u001b[1;33m,\u001b[0m\u001b[1;33m\u001b[0m\u001b[1;33m\u001b[0m\u001b[0m\n\u001b[0;32m   3208\u001b[0m         \u001b[0mfunction_spec\u001b[0m\u001b[1;33m=\u001b[0m\u001b[0mself\u001b[0m\u001b[1;33m.\u001b[0m\u001b[0mfunction_spec\u001b[0m\u001b[1;33m,\u001b[0m\u001b[1;33m\u001b[0m\u001b[1;33m\u001b[0m\u001b[0m\n",
      "\u001b[1;32m~\\AppData\\Roaming\\Python\\Python37\\site-packages\\tensorflow\\python\\framework\\func_graph.py\u001b[0m in \u001b[0;36mfunc_graph_from_py_func\u001b[1;34m(name, python_func, args, kwargs, signature, func_graph, autograph, autograph_options, add_control_dependencies, arg_names, op_return_value, collections, capture_by_value, override_flat_arg_shapes)\u001b[0m\n\u001b[0;32m    988\u001b[0m         \u001b[0m_\u001b[0m\u001b[1;33m,\u001b[0m \u001b[0moriginal_func\u001b[0m \u001b[1;33m=\u001b[0m \u001b[0mtf_decorator\u001b[0m\u001b[1;33m.\u001b[0m\u001b[0munwrap\u001b[0m\u001b[1;33m(\u001b[0m\u001b[0mpython_func\u001b[0m\u001b[1;33m)\u001b[0m\u001b[1;33m\u001b[0m\u001b[1;33m\u001b[0m\u001b[0m\n\u001b[0;32m    989\u001b[0m \u001b[1;33m\u001b[0m\u001b[0m\n\u001b[1;32m--> 990\u001b[1;33m       \u001b[0mfunc_outputs\u001b[0m \u001b[1;33m=\u001b[0m \u001b[0mpython_func\u001b[0m\u001b[1;33m(\u001b[0m\u001b[1;33m*\u001b[0m\u001b[0mfunc_args\u001b[0m\u001b[1;33m,\u001b[0m \u001b[1;33m**\u001b[0m\u001b[0mfunc_kwargs\u001b[0m\u001b[1;33m)\u001b[0m\u001b[1;33m\u001b[0m\u001b[1;33m\u001b[0m\u001b[0m\n\u001b[0m\u001b[0;32m    991\u001b[0m \u001b[1;33m\u001b[0m\u001b[0m\n\u001b[0;32m    992\u001b[0m       \u001b[1;31m# invariant: `func_outputs` contains only Tensors, CompositeTensors,\u001b[0m\u001b[1;33m\u001b[0m\u001b[1;33m\u001b[0m\u001b[1;33m\u001b[0m\u001b[0m\n",
      "\u001b[1;32m~\\AppData\\Roaming\\Python\\Python37\\site-packages\\tensorflow\\python\\eager\\def_function.py\u001b[0m in \u001b[0;36mwrapped_fn\u001b[1;34m(*args, **kwds)\u001b[0m\n\u001b[0;32m    632\u001b[0m             \u001b[0mxla_context\u001b[0m\u001b[1;33m.\u001b[0m\u001b[0mExit\u001b[0m\u001b[1;33m(\u001b[0m\u001b[1;33m)\u001b[0m\u001b[1;33m\u001b[0m\u001b[1;33m\u001b[0m\u001b[0m\n\u001b[0;32m    633\u001b[0m         \u001b[1;32melse\u001b[0m\u001b[1;33m:\u001b[0m\u001b[1;33m\u001b[0m\u001b[1;33m\u001b[0m\u001b[0m\n\u001b[1;32m--> 634\u001b[1;33m           \u001b[0mout\u001b[0m \u001b[1;33m=\u001b[0m \u001b[0mweak_wrapped_fn\u001b[0m\u001b[1;33m(\u001b[0m\u001b[1;33m)\u001b[0m\u001b[1;33m.\u001b[0m\u001b[0m__wrapped__\u001b[0m\u001b[1;33m(\u001b[0m\u001b[1;33m*\u001b[0m\u001b[0margs\u001b[0m\u001b[1;33m,\u001b[0m \u001b[1;33m**\u001b[0m\u001b[0mkwds\u001b[0m\u001b[1;33m)\u001b[0m\u001b[1;33m\u001b[0m\u001b[1;33m\u001b[0m\u001b[0m\n\u001b[0m\u001b[0;32m    635\u001b[0m         \u001b[1;32mreturn\u001b[0m \u001b[0mout\u001b[0m\u001b[1;33m\u001b[0m\u001b[1;33m\u001b[0m\u001b[0m\n\u001b[0;32m    636\u001b[0m \u001b[1;33m\u001b[0m\u001b[0m\n",
      "\u001b[1;32m~\\AppData\\Roaming\\Python\\Python37\\site-packages\\tensorflow\\python\\framework\\func_graph.py\u001b[0m in \u001b[0;36mwrapper\u001b[1;34m(*args, **kwargs)\u001b[0m\n\u001b[0;32m    975\u001b[0m           \u001b[1;32mexcept\u001b[0m \u001b[0mException\u001b[0m \u001b[1;32mas\u001b[0m \u001b[0me\u001b[0m\u001b[1;33m:\u001b[0m  \u001b[1;31m# pylint:disable=broad-except\u001b[0m\u001b[1;33m\u001b[0m\u001b[1;33m\u001b[0m\u001b[0m\n\u001b[0;32m    976\u001b[0m             \u001b[1;32mif\u001b[0m \u001b[0mhasattr\u001b[0m\u001b[1;33m(\u001b[0m\u001b[0me\u001b[0m\u001b[1;33m,\u001b[0m \u001b[1;34m\"ag_error_metadata\"\u001b[0m\u001b[1;33m)\u001b[0m\u001b[1;33m:\u001b[0m\u001b[1;33m\u001b[0m\u001b[1;33m\u001b[0m\u001b[0m\n\u001b[1;32m--> 977\u001b[1;33m               \u001b[1;32mraise\u001b[0m \u001b[0me\u001b[0m\u001b[1;33m.\u001b[0m\u001b[0mag_error_metadata\u001b[0m\u001b[1;33m.\u001b[0m\u001b[0mto_exception\u001b[0m\u001b[1;33m(\u001b[0m\u001b[0me\u001b[0m\u001b[1;33m)\u001b[0m\u001b[1;33m\u001b[0m\u001b[1;33m\u001b[0m\u001b[0m\n\u001b[0m\u001b[0;32m    978\u001b[0m             \u001b[1;32melse\u001b[0m\u001b[1;33m:\u001b[0m\u001b[1;33m\u001b[0m\u001b[1;33m\u001b[0m\u001b[0m\n\u001b[0;32m    979\u001b[0m               \u001b[1;32mraise\u001b[0m\u001b[1;33m\u001b[0m\u001b[1;33m\u001b[0m\u001b[0m\n",
      "\u001b[1;31mValueError\u001b[0m: in user code:\n\n    C:\\Users\\domen\\AppData\\Roaming\\Python\\Python37\\site-packages\\tensorflow\\python\\keras\\engine\\training.py:1478 predict_function  *\n        return step_function(self, iterator)\n    C:\\Users\\domen\\AppData\\Roaming\\Python\\Python37\\site-packages\\tensorflow\\python\\keras\\engine\\training.py:1468 step_function  **\n        outputs = model.distribute_strategy.run(run_step, args=(data,))\n    C:\\Users\\domen\\AppData\\Roaming\\Python\\Python37\\site-packages\\tensorflow\\python\\distribute\\distribute_lib.py:1259 run\n        return self._extended.call_for_each_replica(fn, args=args, kwargs=kwargs)\n    C:\\Users\\domen\\AppData\\Roaming\\Python\\Python37\\site-packages\\tensorflow\\python\\distribute\\distribute_lib.py:2730 call_for_each_replica\n        return self._call_for_each_replica(fn, args, kwargs)\n    C:\\Users\\domen\\AppData\\Roaming\\Python\\Python37\\site-packages\\tensorflow\\python\\distribute\\distribute_lib.py:3417 _call_for_each_replica\n        return fn(*args, **kwargs)\n    C:\\Users\\domen\\AppData\\Roaming\\Python\\Python37\\site-packages\\tensorflow\\python\\keras\\engine\\training.py:1461 run_step  **\n        outputs = model.predict_step(data)\n    C:\\Users\\domen\\AppData\\Roaming\\Python\\Python37\\site-packages\\tensorflow\\python\\keras\\engine\\training.py:1434 predict_step\n        return self(x, training=False)\n    C:\\Users\\domen\\AppData\\Roaming\\Python\\Python37\\site-packages\\tensorflow\\python\\keras\\engine\\base_layer.py:998 __call__\n        input_spec.assert_input_compatibility(self.input_spec, inputs, self.name)\n    C:\\Users\\domen\\AppData\\Roaming\\Python\\Python37\\site-packages\\tensorflow\\python\\keras\\engine\\input_spec.py:259 assert_input_compatibility\n        ' but received input with shape ' + display_shape(x.shape))\n\n    ValueError: Input 0 of layer sequential is incompatible with the layer: expected axis -1 of input shape to have value 3 but received input with shape (None, 100, 100, 1)\n"
     ]
    }
   ],
   "source": [
    "pred = model.predict(test_pixel_data)"
   ]
  },
  {
   "cell_type": "code",
   "execution_count": null,
   "metadata": {
    "colab": {
     "base_uri": "https://localhost:8080/"
    },
    "id": "HmuY26NB7e1F",
    "outputId": "026465db-f937-47c7-b06f-4d6b96600116"
   },
   "outputs": [],
   "source": [
    "pred"
   ]
  },
  {
   "cell_type": "markdown",
   "metadata": {
    "id": "vamZgBfBYv-t"
   },
   "source": [
    "Convert the numerical classes to corresponding categorical classes."
   ]
  },
  {
   "cell_type": "code",
   "execution_count": null,
   "metadata": {
    "id": "9XnarKhMY2St"
   },
   "outputs": [],
   "source": [
    "predictions = []\n",
    "for item in pred:\n",
    "  if item <= 0.5:\n",
    "    predictions.append('normal')\n",
    "  else:\n",
    "    predictions.append('pneumonia')"
   ]
  },
  {
   "cell_type": "code",
   "execution_count": null,
   "metadata": {
    "colab": {
     "base_uri": "https://localhost:8080/"
    },
    "id": "Gk0vMQ_8T_ML",
    "outputId": "9cb811b1-d33e-4012-fb27-d2d9b8474676"
   },
   "outputs": [],
   "source": [
    "predictions"
   ]
  },
  {
   "cell_type": "markdown",
   "metadata": {
    "id": "THaqbN4LM6YX"
   },
   "source": [
    "## **How to save prediciton results locally via jupyter notebook?**\n",
    "If you are working on Jupyter notebook, execute below block of codes. A file named 'submission.csv' will be created in your current working directory."
   ]
  },
  {
   "cell_type": "code",
   "execution_count": null,
   "metadata": {
    "id": "5I2wAC5RMwvJ"
   },
   "outputs": [],
   "source": [
    "res = pd.DataFrame({'filename': test_images['filename'], 'label': predictions})  # prediction is nothing but the final predictions of your model on input features of your new unseen test data\n",
    "res.to_csv(\"submission.csv\", index = False)      # the csv file will be saved locally on the same location where this notebook is located."
   ]
  },
  {
   "cell_type": "markdown",
   "metadata": {
    "id": "fquFjyl6OfGz"
   },
   "source": [
    "# **OR,**\n",
    "**If you are working on Google Colab then use the below set of code to save prediction results locally**"
   ]
  },
  {
   "cell_type": "markdown",
   "metadata": {
    "id": "ILu2PfzNOqLx"
   },
   "source": [
    "## **How to save prediction results locally via colab notebook?**\n",
    "If you are working on Google Colab Notebook, execute below block of codes. A file named 'prediction_results' will be downloaded in your system."
   ]
  },
  {
   "cell_type": "markdown",
   "metadata": {
    "id": "NohZiMIkO_tX"
   },
   "source": [
    "# **Well Done! 👍**\n",
    "You are all set to make a submission. Let's head to the **[challenge page](https://dphi.tech/challenges/pneumonia-classification-challenge-by-segmind/76/overview/about)** to make the submission."
   ]
  }
 ],
 "metadata": {
  "accelerator": "GPU",
  "colab": {
   "collapsed_sections": [],
   "name": "Starter Notebook: Pneumonia Dataset.ipynb",
   "provenance": []
  },
  "kernelspec": {
   "display_name": "Python 3",
   "language": "python",
   "name": "python3"
  },
  "language_info": {
   "codemirror_mode": {
    "name": "ipython",
    "version": 3
   },
   "file_extension": ".py",
   "mimetype": "text/x-python",
   "name": "python",
   "nbconvert_exporter": "python",
   "pygments_lexer": "ipython3",
   "version": "3.7.10"
  }
 },
 "nbformat": 4,
 "nbformat_minor": 1
}
